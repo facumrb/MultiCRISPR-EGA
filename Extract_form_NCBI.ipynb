{
 "cells": [
  {
   "cell_type": "code",
   "execution_count": null,
   "metadata": {},
   "outputs": [],
   "source": [
    "import ssl \n",
    "\n",
    "# Deshabilitar la verificación SSL\n",
    "ssl._create_default_https_context = ssl._create_unverified_context\n",
    "\n",
    "from Bio import Entrez, SeqIO \n",
    "\n",
    "# Obtener el genoma de E. coli MG1655\n",
    "def fetch_ecoli_genome(): \n",
    "    '''\n",
    "    Esta función se utiliza para obtener los datos del genoma de E. coli MG1655 desde la base de datos NCBI.\n",
    "    Recupera los datos mediante el ID de GenBank especificado (\"U00096.3\")\n",
    "    '''\n",
    "    \n",
    "    # Email necesario para las consultas a la API de NCBI (similar a una clave de API)\n",
    "    Entrez.email = \"facundomrb@gmail.com\"  \n",
    "    # Realiza una petición a la API de NCBI para obtener datos genómicos\n",
    "    # db=\"nucleotide\": Base de datos de secuencias de nucleótidos (ADN/ARN)\n",
    "    # id=\"U00096.3\": Identificador único del genoma de E. coli MG1655\n",
    "    # rettype=\"gb\", retmode=\"text\": Formato de retorno (GenBank como texto)\n",
    "    handle = Entrez.efetch(db=\"nucleotide\", id=\"U00096.3\", rettype=\"gb\", retmode=\"text\") \n",
    "    # Parsea la respuesta en formato GenBank (similar a parsear un JSON o XML)\n",
    "    record = SeqIO.read(handle, \"genbank\")\n",
    "    handle.close()\n",
    "    return record\n",
    "\n",
    "# Función para encontrar la posición de un gen específico en el genoma\n",
    "# Equivalente a buscar un registro específico en una base de datos\n",
    "def find_gene_position(record, gene_name):\n",
    "    # Itera a través de todas las características (features) del registro genómico\n",
    "    for feature in record.features:\n",
    "        # CDS = Coding Sequence (secuencia codificante, que representa un gen que codifica una proteína)\n",
    "        # Verifica si es una secuencia codificante y tiene un calificador de \"gene\"\n",
    "        if feature.type == \"CDS\" and \"gene\" in feature.qualifiers:\n",
    "            # Comprueba si el nombre del gen coincide con el buscado\n",
    "            if feature.qualifiers[\"gene\"][0] == gene_name:\n",
    "                # Devuelve las posiciones de inicio y fin del gen en el genoma (como índices en un string)\n",
    "                return feature.location.start, feature.location.end\n",
    "    # Si no se encuentra el gen, devuelve None\n",
    "    return None  \n",
    "\n",
    "# Ejecuta la función para obtener el genoma completo de E. coli\n",
    "record = fetch_ecoli_genome()\n"
   ]
  },
  {
   "cell_type": "code",
   "execution_count": 2,
   "metadata": {},
   "outputs": [
    {
     "name": "stdout",
     "output_type": "stream",
     "text": [
      "Found gene gpmA at positions 786842 to 787595\n",
      "Gene sequence:\n",
      "GATAAGTCGCGCAGCGTCGCATCAGGCAATGTGCTCCATTGTTAGCAACAAAAAAGCCGACTCACTTGCAGTCGGCTTTCTCATTTTAAACGAATGACGTTTACTTCGCTTTACCCTGGTTTGCAACCGCCGCTGCTTTCGCTGCGATCTCGTCAGCATTACCCAGATAATAGCGTTTCAGCGGTTTGAAATTCTCGTCGAACTCATACACCAGCGGCACGCCAGTCGGGATATTAAGCTCAAGAATCTCTTCTTCGCTCATGTTATCAAGATATTTCACCAGCGCACGTAAAGAGTTACCGTGTGCAGCGATGATCACGCGCTCACCGCTCTTCATACGCGGCAGAATAGTTTCATTCCAGTAAGGGATCACGCGGTCAATGGTCAGCGCCAGGCTTTCCGTCAGCGGCAGTTCTTTCTCGCTCAGTTTCGCGTAACGCGGATCGTGACCCGGATAACGCTCATCATCTTTAGTCAGTTCCGGCGGAGTCACTGCAAAACCACGACGCCACTGTTTCACCTGCTCGTCGCCATACTTTTCAGCAGTTTCCGCTTTGTTCAGACCCTGCAACGCACCGTAGTGACGTTCGTTCAGTTTCCAGGATTTCTCAACGGGCAGCCATGCCTGATCCAGTTCGTCCAGCACATTCCACAGGGTATGGATAGCGCGTTTCAGCACAGAAGTGTAAGCAAAGTCAAAGCTGTAACCTTCCTCTTTCAGCAGCTTACCTGCTGCTTTTGCTTCGCTTACGCCTTTCTCAGACAGATCCACGTCGTACCAACCGGTGAAACGGTTTTCTTTGTTCCACTGACTTTCGCCATGACGAACCAGAACCAGCTTAGTTACAGCCAT\n",
      "Length:  853\n",
      "Found gene gpmA -100:300 position:\n",
      "GATAAGTCGCGCAGCGTCGCATCAGGCAATGTGCTCCATTGTTAGCAACAAAAAAGCCGACTCACTTGCAGTCGGCTTTCTCATTTTAAACGAATGACGTTTACTTCGCTTTACCCTGGTTTGCAACCGCCGCTGCTTTCGCTGCGATCTCGTCAGCATTACCCAGATAATAGCGTTTCAGCGGTTTGAAATTCTCGTCGAACTCATACACCAGCGGCACGCCAGTCGGGATATTAAGCTCAAGAATCTCTTCTTCGCTCATGTTATCAAGATATTTCACCAGCGCACGTAAAGAGTTACCGTGTGCAGCGATGATCACGCGCTCACCGCTCTTCATACGCGGCAGAATAGTTTCATTCCAGTAAGGGATCACGCGGTCAATGGTCAGCGCCAGGCTTTC\n",
      "Length:  400\n"
     ]
    }
   ],
   "source": [
    "## Este módulo se utiliza para extraer genes específicos del genoma\n",
    "# Lista de genes que queremos extraer (similar a una lista de IDs en una base de datos)\n",
    "genes_to_extract =['gpmA', 'fbaA', 'pykF', 'pfkB', 'pykA', 'gpmM', 'pfkA', 'fbaB']\n",
    "# Seleccionamos un gen específico para este ejemplo\n",
    "gene_name = \"gpmA\"\n",
    "# Buscamos la posición del gen en el genoma\n",
    "gene_position = find_gene_position(record, gene_name)\n",
    "\n",
    "if gene_position is not None:\n",
    "    # Extrae la secuencia del gen, incluyendo 100 bases antes del inicio del gen\n",
    "    # Esto es como extraer un substring, pero con datos biológicos\n",
    "    # .lower() convierte todas las letras a minúsculas (convención en bioinformática)\n",
    "    gene_seq = record.seq[gene_position[0]-100:gene_position[1]].lower()\n",
    "    print(f\"Found gene {gene_name} at positions {gene_position[0]} to {gene_position[1]}\")\n",
    "    # .upper() convierte a mayúsculas para visualización\n",
    "    print(f\"Gene sequence:\\n{gene_seq.upper()}\")\n",
    "    print('Length: ',len(gene_seq.upper()))\n",
    "    \n",
    "    # Extrae una porción más pequeña del gen (100 bases antes y 300 después del inicio)\n",
    "    # Esto es útil para análisis más específicos de regiones del gen\n",
    "    print(f\"Found gene {gene_name} -100:300 position:\")\n",
    "    gene_truncate = record.seq[gene_position[0]-100:gene_position[0]+300].lower()\n",
    "    print(gene_truncate.upper())\n",
    "    print('Length: ',len(gene_truncate.upper()))\n",
    "\n",
    "else:\n",
    "    print(f\"Gene {gene_name} not found in the genome.\") "
   ]
  },
  {
   "cell_type": "code",
   "execution_count": 3,
   "metadata": {},
   "outputs": [
    {
     "name": "stdout",
     "output_type": "stream",
     "text": [
      "FASTA file saved as gpmA.fasta\n"
     ]
    }
   ],
   "source": [
    "## Este módulo se utiliza para extraer y guardar secuencias de genes\n",
    "# Importamos clases adicionales de Biopython para manejar secuencias y registros\n",
    "from Bio.SeqRecord import SeqRecord\n",
    "from Bio.Seq import Seq\n",
    "# Función para guardar una secuencia en formato FASTA (formato estándar en bioinformática)\n",
    "# Similar a guardar datos en un formato JSON o XML específico para biología\n",
    "def save_as_fasta(seq, gene_name, start, end, filename):\n",
    "    # Crea un objeto SeqRecord con la secuencia y metadatos (como crear un objeto con propiedades)\n",
    "    fasta_record = SeqRecord(Seq(seq.upper()), id=gene_name, description=f\"{gene_name} gene from position {start} to {end}\")\n",
    "    # Escribe el registro en un archivo FASTA\n",
    "    with open(filename, \"w\") as output_handle:\n",
    "        SeqIO.write(fasta_record, output_handle, \"fasta\")\n",
    "    print(f\"FASTA file saved as {filename}\")\n",
    "\n",
    "# Guarda la secuencia del gen extraído anteriormente en un archivo FASTA\n",
    "save_as_fasta(gene_seq, gene_name, gene_position[0], gene_position[1], f\"{gene_name}.fasta\")"
   ]
  },
  {
   "cell_type": "code",
   "execution_count": 4,
   "metadata": {},
   "outputs": [
    {
     "name": "stdout",
     "output_type": "stream",
     "text": [
      "FASTA file of the complete genome saved as ecoli_mg1655_genome.fasta\n"
     ]
    }
   ],
   "source": [
    "## Este módulo se utiliza para extraer y preservar secuencias del genoma completo\n",
    "# Función para guardar el genoma completo en formato FASTA\n",
    "# Equivalente a exportar una base de datos completa a un archivo\n",
    "def save_genome_as_fasta(record, filename):\n",
    "    # Extrae la secuencia completa del genoma\n",
    "    genome_seq = record.seq\n",
    "    # Crea un objeto SeqRecord con la secuencia completa y metadatos\n",
    "    genome_record = SeqRecord(genome_seq, id=record.id, description=\"E. coli MG1655 complete genome\")\n",
    "    # Escribe el registro en un archivo FASTA\n",
    "    with open(filename, \"w\") as output_handle:\n",
    "        SeqIO.write(genome_record, output_handle, \"fasta\")\n",
    "    print(f\"FASTA file of the complete genome saved as {filename}\")\n",
    "# Guarda el genoma completo en un archivo FASTA\n",
    "save_genome_as_fasta(record, \"ecoli_mg1655_genome.fasta\")"
   ]
  },
  {
   "cell_type": "code",
   "execution_count": 5,
   "metadata": {},
   "outputs": [
    {
     "name": "stdout",
     "output_type": "stream",
     "text": [
      "9980\n",
      "1247.5\n"
     ]
    }
   ],
   "source": [
    "## Este módulo se utiliza para calcular la longitud promedio de los genes extraídos\n",
    "# Definimos la lista de genes a procesar\n",
    "genes_to_extract =['gpmA', 'fbaA', 'pykF', 'pfkB', 'pykA', 'gpmM', 'pfkA', 'fbaB']\n",
    "# Inicializamos un contador para la longitud total (acumulador)\n",
    "gene_long = 0\n",
    "# Iteramos a través de todos los genes en la lista\n",
    "for gene_name in genes_to_extract:\n",
    "    # Buscamos la posición de cada gen\n",
    "    gene_position = find_gene_position(record, gene_name)\n",
    "    if gene_position is not None:\n",
    "        # Extrae la secuencia y suma su longitud al contador\n",
    "        gene_seq = record.seq[gene_position[0]-100:gene_position[1]].lower()\n",
    "        gene_long += len(gene_seq)\n",
    "# Imprime la longitud total de todos los genes\n",
    "print(gene_long)\n",
    "# Imprime la longitud promedio (dividiendo por el número de genes)\n",
    "# Esto puede ser útil para estimar recursos computacionales necesarios\n",
    "print(gene_long/8)"
   ]
  }
 ],
 "metadata": {
  "kernelspec": {
   "display_name": "bio",
   "language": "python",
   "name": "python3"
  },
  "language_info": {
   "codemirror_mode": {
    "name": "ipython",
    "version": 3
   },
   "file_extension": ".py",
   "mimetype": "text/x-python",
   "name": "python",
   "nbconvert_exporter": "python",
   "pygments_lexer": "ipython3",
   "version": "3.10.14"
  },
  "orig_nbformat": 4
 },
 "nbformat": 4,
 "nbformat_minor": 2
}
